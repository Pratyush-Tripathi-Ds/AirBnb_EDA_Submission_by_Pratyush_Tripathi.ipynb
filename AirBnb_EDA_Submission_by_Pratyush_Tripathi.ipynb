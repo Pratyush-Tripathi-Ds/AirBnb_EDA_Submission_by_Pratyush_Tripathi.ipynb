{
  "nbformat": 4,
  "nbformat_minor": 0,
  "metadata": {
    "colab": {
      "private_outputs": true,
      "provenance": [],
      "collapsed_sections": [
        "vncDsAP0Gaoa",
        "FJNUwmbgGyua",
        "w6K7xa23Elo4",
        "yQaldy8SH6Dl",
        "PH-0ReGfmX4f",
        "mDgbUHAGgjLW",
        "O_i_v8NEhb9l",
        "HhfV-JJviCcP",
        "Y3lxredqlCYt",
        "3RnN4peoiCZX",
        "x71ZqKXriCWQ",
        "7hBIi_osiCS2",
        "JlHwYmJAmNHm",
        "35m5QtbWiB9F",
        "PoPl-ycgm1ru",
        "H0kj-8xxnORC",
        "nA9Y7ga8ng1Z",
        "PBTbrJXOngz2",
        "u3PMJOP6ngxN",
        "dauF4eBmngu3",
        "bKJF3rekwFvQ",
        "MSa1f5Uengrz",
        "GF8Ens_Soomf",
        "0wOQAZs5pc--",
        "K5QZ13OEpz2H",
        "lQ7QKXXCp7Bj",
        "448CDAPjqfQr",
        "KSlN3yHqYklG",
        "t6dVpIINYklI",
        "ijmpgYnKYklI",
        "-JiQyfWJYklI",
        "EM7whBJCYoAo",
        "fge-S5ZAYoAp",
        "85gYPyotYoAp",
        "RoGjAbkUYoAp",
        "4Of9eVA-YrdM",
        "iky9q4vBYrdO",
        "F6T5p64dYrdO",
        "y-Ehk30pYrdP",
        "bamQiAODYuh1",
        "QHF8YVU7Yuh3",
        "GwzvFGzlYuh3",
        "qYpmQ266Yuh3",
        "OH-pJp9IphqM",
        "bbFf2-_FphqN",
        "_ouA3fa0phqN",
        "Seke61FWphqN",
        "PIIx-8_IphqN",
        "t27r6nlMphqO",
        "r2jJGEOYphqO",
        "b0JNsNcRphqO",
        "BZR9WyysphqO",
        "jj7wYXLtphqO",
        "eZrbJ2SmphqO",
        "rFu4xreNphqO",
        "YJ55k-q6phqO",
        "gCFgpxoyphqP",
        "OVtJsKN_phqQ",
        "lssrdh5qphqQ",
        "U2RJ9gkRphqQ",
        "1M8mcRywphqQ",
        "tgIPom80phqQ",
        "JMzcOPDDphqR",
        "x-EpHcCOp1ci",
        "X_VqEhTip1ck",
        "8zGJKyg5p1ck",
        "PVzmfK_Ep1ck",
        "n3dbpmDWp1ck",
        "ylSl6qgtp1ck",
        "ZWILFDl5p1ck",
        "M7G43BXep1ck",
        "Ag9LCva-p1cl",
        "E6MkPsBcp1cl",
        "2cELzS2fp1cl",
        "3MPXvC8up1cl",
        "NC_X3p0fY2L0",
        "UV0SzAkaZNRQ",
        "YPEH6qLeZNRQ",
        "q29F0dvdveiT",
        "EXh0U9oCveiU",
        "22aHeOlLveiV",
        "JcMwzZxoAimU",
        "8G2x9gOozGDZ",
        "gCX9965dhzqZ",
        "gIfDvo9L0UH2"
      ],
      "include_colab_link": true
    },
    "kernelspec": {
      "name": "python3",
      "display_name": "Python 3"
    },
    "language_info": {
      "name": "python"
    }
  },
  "cells": [
    {
      "cell_type": "markdown",
      "metadata": {
        "id": "view-in-github",
        "colab_type": "text"
      },
      "source": [
        "<a href=\"https://colab.research.google.com/github/Pratyush-Tripathi-Ds/AirBnb_EDA_Submission_by_Pratyush_Tripathi.ipynb/blob/main/AirBnb_EDA_Submission_by_Pratyush_Tripathi.ipynb\" target=\"_parent\"><img src=\"https://colab.research.google.com/assets/colab-badge.svg\" alt=\"Open In Colab\"/></a>"
      ]
    },
    {
      "cell_type": "markdown",
      "source": [
        "# **Project Name**    -\n",
        "\n"
      ],
      "metadata": {
        "id": "vncDsAP0Gaoa"
      }
    },
    {
      "cell_type": "markdown",
      "source": [
        "##### **Project Type**    - Airbnb dataset EDA/Unsupervised\n",
        "##### **Contribution**    - Individual\n",
        "##### **Project by - Pratyush Tripathi**"
      ],
      "metadata": {
        "id": "beRrZCGUAJYm"
      }
    },
    {
      "cell_type": "markdown",
      "source": [
        "# **Project Summary -**"
      ],
      "metadata": {
        "id": "FJNUwmbgGyua"
      }
    },
    {
      "cell_type": "markdown",
      "source": [
        "In terms of the following assessment, a dataset developed from the AirBnb Listings is to be analysed. This is essential for the betterment of consumer experience and it leads to adjustment of different factors within the AirBnb facilities. The data has been gathered from 2011 to 2019 and the analysis is subjected to understand the price, availability of the bookings and it also explores the idea to deliver how consumers can engage in better way based on the number of feedbacks provided by them. The business objective in the context is subjected to deliver the idea of gathering better resourcces and proper allocation of the resources has been part of the analysis. The suitable ideas to deliver the business objective has also been discussed."
      ],
      "metadata": {
        "id": "F6v_1wHtG2nS"
      }
    },
    {
      "cell_type": "markdown",
      "source": [
        "# **GitHub Link -**"
      ],
      "metadata": {
        "id": "w6K7xa23Elo4"
      }
    },
    {
      "cell_type": "markdown",
      "source": [
        "Provide your GitHub Link here."
      ],
      "metadata": {
        "id": "h1o69JH3Eqqn"
      }
    },
    {
      "cell_type": "markdown",
      "source": [
        "# **Problem Statement**\n"
      ],
      "metadata": {
        "id": "yQaldy8SH6Dl"
      }
    },
    {
      "cell_type": "markdown",
      "source": [
        "**The quality of services in AirBnb booking needs to be analysed in terms of the different variables present in the data in order to improve the services with proper resource allocation to specific locations for better consumer experience and improved engagement with the customers.**"
      ],
      "metadata": {
        "id": "DpeJGUA3kjGy"
      }
    },
    {
      "cell_type": "markdown",
      "source": [
        "#### **Define Your Business Objective?**"
      ],
      "metadata": {
        "id": "PH-0ReGfmX4f"
      }
    },
    {
      "cell_type": "markdown",
      "source": [
        "The business of AirBnb has the following objectives to be delivered by this assessment:\n",
        "\n",
        "\n",
        "*   To determine the locations of AirBnb where most of the bookings are done\n",
        "*   To determine which type of room has been booked most from the gathered data\n",
        "*   To assess the correlations between the different aspects with help of proportional values between variables\n",
        "*   To determine the average price taken by the bookings based on types of the room and locations\n",
        "*   To analyse the pattern of bookings based on different types of rooms and number of nights booked\n",
        "*   To analyse the quality of services based on the number of feedbacks\n",
        "*   To determine how the above analysis can be used to improve the quality of services and make the business better.\n",
        "\n"
      ],
      "metadata": {
        "id": "PhDvGCAqmjP1"
      }
    },
    {
      "cell_type": "markdown",
      "source": [
        "# **General Guidelines** : -  "
      ],
      "metadata": {
        "id": "mDgbUHAGgjLW"
      }
    },
    {
      "cell_type": "markdown",
      "source": [
        "1.   Well-structured, formatted, and commented code is required.\n",
        "2.   Exception Handling, Production Grade Code & Deployment Ready Code will be a plus. Those students will be awarded some additional credits.\n",
        "     \n",
        "     The additional credits will have advantages over other students during Star Student selection.\n",
        "       \n",
        "             [ Note: - Deployment Ready Code is defined as, the whole .ipynb notebook should be executable in one go\n",
        "                       without a single error logged. ]\n",
        "\n",
        "3.   Each and every logic should have proper comments.\n",
        "4. You may add as many number of charts you want. Make Sure for each and every chart the following format should be answered.\n",
        "        \n",
        "\n",
        "```\n",
        "# Chart visualization code\n",
        "```\n",
        "            \n",
        "\n",
        "*   Why did you pick the specific chart?\n",
        "*   What is/are the insight(s) found from the chart?\n",
        "* Will the gained insights help creating a positive business impact?\n",
        "Are there any insights that lead to negative growth? Justify with specific reason.\n",
        "\n",
        "5. You have to create at least 20 logical & meaningful charts having important insights.\n",
        "\n",
        "\n",
        "[ Hints : - Do the Vizualization in  a structured way while following \"UBM\" Rule.\n",
        "\n",
        "U - Univariate Analysis,\n",
        "\n",
        "B - Bivariate Analysis (Numerical - Categorical, Numerical - Numerical, Categorical - Categorical)\n",
        "\n",
        "M - Multivariate Analysis\n",
        " ]\n",
        "\n",
        "\n",
        "\n"
      ],
      "metadata": {
        "id": "ZrxVaUj-hHfC"
      }
    },
    {
      "cell_type": "markdown",
      "source": [
        "# ***Let's Begin !***"
      ],
      "metadata": {
        "id": "O_i_v8NEhb9l"
      }
    },
    {
      "cell_type": "markdown",
      "source": [
        "## ***1. Know Your Data***"
      ],
      "metadata": {
        "id": "HhfV-JJviCcP"
      }
    },
    {
      "cell_type": "markdown",
      "source": [
        "### Import Libraries"
      ],
      "metadata": {
        "id": "Y3lxredqlCYt"
      }
    },
    {
      "cell_type": "code",
      "source": [
        "# Import Libraries\n",
        "import numpy as np\n",
        "import pandas as pd\n",
        "import matplotlib.pyplot as plt\n",
        "import seaborn as sns\n",
        "import missingno as msno"
      ],
      "metadata": {
        "id": "M8Vqi-pPk-HR"
      },
      "execution_count": null,
      "outputs": []
    },
    {
      "cell_type": "markdown",
      "source": [
        "### Dataset Loading"
      ],
      "metadata": {
        "id": "3RnN4peoiCZX"
      }
    },
    {
      "cell_type": "code",
      "source": [
        "# Mounting drive\n",
        "from google.colab import drive\n",
        "drive.mount('/content/drive')"
      ],
      "metadata": {
        "id": "rhboesrIvuni"
      },
      "execution_count": null,
      "outputs": []
    },
    {
      "cell_type": "code",
      "source": [
        "# Load Dataset\n",
        "airbnb_ny_2019_df = pd.read_csv('/content/drive/MyDrive/Airbnb NYC 2019.csv')"
      ],
      "metadata": {
        "id": "4CkvbW_SlZ_R"
      },
      "execution_count": null,
      "outputs": []
    },
    {
      "cell_type": "markdown",
      "source": [
        "### Dataset First View"
      ],
      "metadata": {
        "id": "x71ZqKXriCWQ"
      }
    },
    {
      "cell_type": "code",
      "source": [
        "# Dataset First Look\n",
        "airbnb_ny_2019_df.head()"
      ],
      "metadata": {
        "id": "LWNFOSvLl09H"
      },
      "execution_count": null,
      "outputs": []
    },
    {
      "cell_type": "markdown",
      "source": [
        "### Dataset Rows & Columns count"
      ],
      "metadata": {
        "id": "7hBIi_osiCS2"
      }
    },
    {
      "cell_type": "code",
      "source": [
        "# Dataset Rows & Columns count\n",
        "print(f\"Number of rows in dataset: {airbnb_ny_2019_df.shape[0]}\")\n",
        "print(f\"Number of columns in dataset: {airbnb_ny_2019_df.shape[1]}\")"
      ],
      "metadata": {
        "id": "Kllu7SJgmLij"
      },
      "execution_count": null,
      "outputs": []
    },
    {
      "cell_type": "markdown",
      "source": [
        "### Dataset Information"
      ],
      "metadata": {
        "id": "JlHwYmJAmNHm"
      }
    },
    {
      "cell_type": "code",
      "source": [
        "# Dataset Info\n",
        "airbnb_ny_2019_df.info()"
      ],
      "metadata": {
        "id": "e9hRXRi6meOf"
      },
      "execution_count": null,
      "outputs": []
    },
    {
      "cell_type": "markdown",
      "source": [
        "#### Duplicate Values"
      ],
      "metadata": {
        "id": "35m5QtbWiB9F"
      }
    },
    {
      "cell_type": "code",
      "source": [
        "# Dataset Duplicate Value Count\n",
        "airbnb_ny_2019_df.nunique()"
      ],
      "metadata": {
        "id": "1sLdpKYkmox0"
      },
      "execution_count": null,
      "outputs": []
    },
    {
      "cell_type": "markdown",
      "source": [
        "#### Missing Values/Null Values"
      ],
      "metadata": {
        "id": "PoPl-ycgm1ru"
      }
    },
    {
      "cell_type": "code",
      "source": [
        "# Missing Values/Null Values Count\n",
        "airbnb_ny_2019_df.isna().sum()"
      ],
      "metadata": {
        "id": "GgHWkxvamxVg"
      },
      "execution_count": null,
      "outputs": []
    },
    {
      "cell_type": "code",
      "source": [
        "# Visualizing the missing values\n",
        "msno.matrix(airbnb_ny_2019_df)"
      ],
      "metadata": {
        "id": "3q5wnI3om9sJ"
      },
      "execution_count": null,
      "outputs": []
    },
    {
      "cell_type": "markdown",
      "source": [
        "### What did you know about your dataset?"
      ],
      "metadata": {
        "id": "H0kj-8xxnORC"
      }
    },
    {
      "cell_type": "markdown",
      "source": [
        "After observing the given dataset, we know that:\n",
        "\n",
        "1. The dataset has no duplicate values in the rows,\n",
        "\n",
        "2. The dataset has null values which will cause problems during the exploratory data analysis.\n",
        "\n",
        "Therefore we need to clean the data before performing the data analysis."
      ],
      "metadata": {
        "id": "gfoNAAC-nUe_"
      }
    },
    {
      "cell_type": "markdown",
      "source": [
        "## ***2. Understanding Your Variables***"
      ],
      "metadata": {
        "id": "nA9Y7ga8ng1Z"
      }
    },
    {
      "cell_type": "code",
      "source": [
        "# Dataset Columns\n",
        "airbnb_ny_2019_df_columns = airbnb_ny_2019_df.columns\n",
        "airbnb_ny_2019_df_columns"
      ],
      "metadata": {
        "id": "j7xfkqrt5Ag5"
      },
      "execution_count": null,
      "outputs": []
    },
    {
      "cell_type": "code",
      "source": [
        "# Dataset Describe\n",
        "airbnb_ny_2019_df.size\n",
        "\n",
        "# Dataset description of all the columns\n",
        "airbnb_ny_2019_df.describe(include='all')"
      ],
      "metadata": {
        "id": "DnOaZdaE5Q5t"
      },
      "execution_count": null,
      "outputs": []
    },
    {
      "cell_type": "markdown",
      "source": [
        "### Variables Description"
      ],
      "metadata": {
        "id": "PBTbrJXOngz2"
      }
    },
    {
      "cell_type": "markdown",
      "source": [
        "The description of the variables is as follows:\n",
        "\n",
        "*   id - Unique ID\n",
        "*   name - Name of the listing\n",
        "*   host_id - Unique ID of host\n",
        "*   host_name - Name of host\n",
        "*   neighbourhood_group - location\n",
        "*   neighbourhood - area\n",
        "*   latitude - Latitude range\n",
        "*   longitude - Longitude range\n",
        "*   room_type - Type of listing\n",
        "*   price - price of listing\n",
        "*   minimum_nights - Minimum nights to be paid for\n",
        "*   number_of_reviews - Number of reviews\n",
        "*   last_review - Date of last review\n",
        "*   reviews_per_month - Numbers of reviews per month\n",
        "*   calculated_host_listing_count - Total count\n",
        "*   availability_365 - Availability around the year"
      ],
      "metadata": {
        "id": "aJV4KIxSnxay"
      }
    },
    {
      "cell_type": "markdown",
      "source": [
        "### Check Unique Values for each variable."
      ],
      "metadata": {
        "id": "u3PMJOP6ngxN"
      }
    },
    {
      "cell_type": "code",
      "source": [
        "# Check Unique Values for each variable.\n",
        "for i in airbnb_ny_2019_df.columns.tolist():\n",
        "  print(f\"Number of unique values in {i} is {airbnb_ny_2019_df[i].nunique()}.\")\n",
        "\n",
        "for i in airbnb_ny_2019_df.columns.tolist():\n",
        "  if airbnb_ny_2019_df[i].nunique() < 50:\n",
        "    print(f\"Unique Values for {i} are: {airbnb_ny_2019_df[i].unique()}\")"
      ],
      "metadata": {
        "id": "zms12Yq5n-jE"
      },
      "execution_count": null,
      "outputs": []
    },
    {
      "cell_type": "markdown",
      "source": [
        "## 3. ***Data Wrangling***"
      ],
      "metadata": {
        "id": "dauF4eBmngu3"
      }
    },
    {
      "cell_type": "markdown",
      "source": [
        "### Data Wrangling Code"
      ],
      "metadata": {
        "id": "bKJF3rekwFvQ"
      }
    },
    {
      "cell_type": "code",
      "source": [
        "# Write your code to make your dataset analysis ready.\n",
        "airbnb_ny_2019_df.info()"
      ],
      "metadata": {
        "id": "wk-9a2fpoLcV"
      },
      "execution_count": null,
      "outputs": []
    },
    {
      "cell_type": "code",
      "source": [
        "# Checking the NaN values\n",
        "airbnb_ny_2019_df.isnull().sum()"
      ],
      "metadata": {
        "id": "PblvhhP7tTjM"
      },
      "execution_count": null,
      "outputs": []
    },
    {
      "cell_type": "code",
      "source": [
        "# As rows containing NaN values for host_name and name cannot be replaced we need to remove them\n",
        "airbnb_ny_2019_df.dropna(subset = ['host_name'], inplace = True)\n",
        "airbnb_ny_2019_df.dropna(subset = ['name'], inplace = True)\n",
        "\n",
        "# As last_review does not provide any valuable information we can remove it\n",
        "airbnb_ny_2019_df = airbnb_ny_2019_df.drop(['last_review'], axis = 1)\n",
        "\n",
        "# The NaN values of reviews_per_month can be replaced by the mean value of the column\n",
        "airbnb_ny_2019_df['reviews_per_month'].fillna(airbnb_ny_2019_df['reviews_per_month'].mean(), inplace = True)\n",
        "\n",
        "airbnb_ny_2019_df.info()"
      ],
      "metadata": {
        "id": "dLUcFfUkth9j"
      },
      "execution_count": null,
      "outputs": []
    },
    {
      "cell_type": "markdown",
      "source": [
        "### What all manipulations have you done and insights you found?"
      ],
      "metadata": {
        "id": "MSa1f5Uengrz"
      }
    },
    {
      "cell_type": "markdown",
      "source": [
        "The manipulations done to clean the data for accurate analysis are:\n",
        "\n",
        "1. The rows of 'host_name' having NaN value were removed as replacement was not possible,\n",
        "\n",
        "2. The rows of 'name' having NaN value were removed as replacement was not possible,\n",
        "\n",
        "3. Since 'last_review' was not giving any valuable information and had lots of NaN values, it was removed from the dataframe,\n",
        "\n",
        "4. The NaN values of the 'review_per_month' were replaced by the mean of the column.\n",
        "\n",
        "After the manipulations we can see the number of rows have been lowered and the dataframe now has 48858 rows.\n",
        "\n",
        "Also now the dataframe has 15 columns as we dropped the 'last_review' column, so the size of our dataframe is now (48858, 15)\n",
        "\n",
        "The dataset is now ready for analysis."
      ],
      "metadata": {
        "id": "LbyXE7I1olp8"
      }
    },
    {
      "cell_type": "markdown",
      "source": [
        "## ***4. Data Vizualization, Storytelling & Experimenting with charts : Understand the relationships between variables***"
      ],
      "metadata": {
        "id": "GF8Ens_Soomf"
      }
    },
    {
      "cell_type": "markdown",
      "source": [
        "#### Chart - 1"
      ],
      "metadata": {
        "id": "0wOQAZs5pc--"
      }
    },
    {
      "cell_type": "code",
      "source": [
        "# Chart - 1 visualization code\n",
        "# Plot of bookings based on neighbourhood group\n",
        "\n",
        "ax = sns.countplot(airbnb_ny_2019_df, x = 'neighbourhood_group')\n",
        "ax.bar_label(ax.containers[0])\n",
        "plt.xlabel('Neighbourhood Groups')\n",
        "plt.ylabel('Neighbourhood Group Count')\n",
        "plt.title('Neighbourhood Group Bookings')"
      ],
      "metadata": {
        "id": "7v_ESjsspbW7"
      },
      "execution_count": null,
      "outputs": []
    },
    {
      "cell_type": "markdown",
      "source": [
        "##### 1. Why did you pick the specific chart?"
      ],
      "metadata": {
        "id": "K5QZ13OEpz2H"
      }
    },
    {
      "cell_type": "markdown",
      "source": [
        "This chart shows the number of bookings done in Brooklyn, Manhattan, Queens, Staten Island and Bronx. The reason for selecting this chart is to get the total amount of location based bookings."
      ],
      "metadata": {
        "id": "XESiWehPqBRc"
      }
    },
    {
      "cell_type": "markdown",
      "source": [
        "##### 2. What is/are the insight(s) found from the chart?"
      ],
      "metadata": {
        "id": "lQ7QKXXCp7Bj"
      }
    },
    {
      "cell_type": "markdown",
      "source": [
        "The chart shows the number of bookings for respective locations.\n",
        "\n",
        "1. Brooklyn - 20089\n",
        "\n",
        "2. Manhattan - 21643\n",
        "\n",
        "3. Queens - 5664\n",
        "\n",
        "4. Staten Island - 373\n",
        "\n",
        "5. Bronx - 1089"
      ],
      "metadata": {
        "id": "C_j1G7yiqdRP"
      }
    },
    {
      "cell_type": "markdown",
      "source": [
        "##### 3. Will the gained insights help creating a positive business impact?\n",
        "Are there any insights that lead to negative growth? Justify with specific reason."
      ],
      "metadata": {
        "id": "448CDAPjqfQr"
      }
    },
    {
      "cell_type": "markdown",
      "source": [
        "Following can be concluded from the graph:\n",
        "\n",
        "1. The graph shows that the Manhattan and Brooklyn have the most number of bookings,\n",
        "\n",
        "2. Queens has little over than 1/4 bookings of Manhattan,\n",
        "\n",
        "3. Bronx has under 1/5 bookings of Queens,\n",
        "\n",
        "4. Staten Islands has least number of bookings.\n",
        "\n",
        "The most booked locations show the higher demand and businesses must provide the adequate supply to meet the demand."
      ],
      "metadata": {
        "id": "3cspy4FjqxJW"
      }
    },
    {
      "cell_type": "markdown",
      "source": [
        "#### Chart - 2"
      ],
      "metadata": {
        "id": "KSlN3yHqYklG"
      }
    },
    {
      "cell_type": "code",
      "source": [
        "# Chart - 2 visualization code\n",
        "# Plot of bookings based on type of room\n",
        "ax = sns.countplot(airbnb_ny_2019_df, x = 'room_type')\n",
        "ax.bar_label(ax.containers[0])\n",
        "plt.xlabel('Room Type')\n",
        "plt.ylabel('Room Type Count')\n",
        "plt.title('Room Type Bookings')"
      ],
      "metadata": {
        "id": "R4YgtaqtYklH"
      },
      "execution_count": null,
      "outputs": []
    },
    {
      "cell_type": "markdown",
      "source": [
        "##### 1. Why did you pick the specific chart?"
      ],
      "metadata": {
        "id": "t6dVpIINYklI"
      }
    },
    {
      "cell_type": "markdown",
      "source": [
        "The specific chart has been selected to determine the number of bookings by the type of rooms. It defines the most desired room type by the customers which help the business to select their resourses properly."
      ],
      "metadata": {
        "id": "5aaW0BYyYklI"
      }
    },
    {
      "cell_type": "markdown",
      "source": [
        "##### 2. What is/are the insight(s) found from the chart?"
      ],
      "metadata": {
        "id": "ijmpgYnKYklI"
      }
    },
    {
      "cell_type": "markdown",
      "source": [
        "The three type of rooms had bookings:\n",
        "\n",
        "1. Private room - 22306\n",
        "\n",
        "2. Entire Home/ Apt Room - 25393\n",
        "\n",
        "3. Shared room - 1159"
      ],
      "metadata": {
        "id": "PSx9atu2YklI"
      }
    },
    {
      "cell_type": "markdown",
      "source": [
        "##### 3. Will the gained insights help creating a positive business impact?\n",
        "Are there any insights that lead to negative growth? Justify with specific reason."
      ],
      "metadata": {
        "id": "-JiQyfWJYklI"
      }
    },
    {
      "cell_type": "markdown",
      "source": [
        "The entire home and apartment room type is the most booked. The business has an impact based on different room types. Hence, the positive impact of this can bve included in the business to develop their business.\n",
        "\n",
        "The negative impact is not present here except for including more resources on shared rooms would be waste. Thus, including the resources to other room types will be most appropriate choice."
      ],
      "metadata": {
        "id": "BcBbebzrYklV"
      }
    },
    {
      "cell_type": "markdown",
      "source": [
        "#### Chart - 3"
      ],
      "metadata": {
        "id": "EM7whBJCYoAo"
      }
    },
    {
      "cell_type": "code",
      "source": [
        "# Chart - 3 visualization code\n",
        "# Plot of average price based on neighbourhood groups\n",
        "price = airbnb_ny_2019_df.groupby('neighbourhood_group').agg(mean_price=('price', 'mean'))\n",
        "\n",
        "ax = sns.barplot(data = price, x = price.index, y = 'mean_price')\n",
        "ax.bar_label(ax.containers[0])\n",
        "plt.xlabel('Neighbourhood Groups')\n",
        "plt.ylabel('Average Price')\n",
        "plt.title('Average price as per the Neighbourhood Group')"
      ],
      "metadata": {
        "id": "t6GMdE67YoAp"
      },
      "execution_count": null,
      "outputs": []
    },
    {
      "cell_type": "markdown",
      "source": [
        "##### 1. Why did you pick the specific chart?"
      ],
      "metadata": {
        "id": "fge-S5ZAYoAp"
      }
    },
    {
      "cell_type": "markdown",
      "source": [
        "The average price of bookings in different neighbourhood groups have been included. The reason for picking this chart is to understand the average prices of AirBnb bookings in different locations."
      ],
      "metadata": {
        "id": "5dBItgRVYoAp"
      }
    },
    {
      "cell_type": "markdown",
      "source": [
        "##### 2. What is/are the insight(s) found from the chart?"
      ],
      "metadata": {
        "id": "85gYPyotYoAp"
      }
    },
    {
      "cell_type": "markdown",
      "source": [
        "The location based price bookings are the key insights and it provides idea on which location has the most price for the AirBnb bookings. It describes that Manhattan has the highest value of price for booking. Brooklyn comes second followed by Staten Island, Queens and Bronx."
      ],
      "metadata": {
        "id": "4jstXR6OYoAp"
      }
    },
    {
      "cell_type": "markdown",
      "source": [
        "##### 3. Will the gained insights help creating a positive business impact?\n",
        "Are there any insights that lead to negative growth? Justify with specific reason."
      ],
      "metadata": {
        "id": "RoGjAbkUYoAp"
      }
    },
    {
      "cell_type": "markdown",
      "source": [
        "The data provides a positive impact on the idea to book AirBnb in suitable price and with the previous data, it provides an idea that the places with high price has the most bookings. this ensures the fact that AirBnb provides the high quality of services in these locations.\n",
        "\n",
        "Negative aspect is that the Queens and Bronx must be provided special care for ensuring more number of bookings."
      ],
      "metadata": {
        "id": "zfJ8IqMcYoAp"
      }
    },
    {
      "cell_type": "markdown",
      "source": [
        "#### Chart - 4"
      ],
      "metadata": {
        "id": "4Of9eVA-YrdM"
      }
    },
    {
      "cell_type": "code",
      "source": [
        "# Chart - 4 visualization code\n",
        "# Plot of average price based on the type of room\n",
        "room_price = airbnb_ny_2019_df.groupby('room_type').agg(mean_price=('price', 'mean'))\n",
        "\n",
        "ax = sns.barplot(data = room_price, x = room_price.index, y = 'mean_price')\n",
        "ax.bar_label(ax.containers[0])\n",
        "plt.xlabel('Room Type')\n",
        "plt.ylabel('Average Price')\n",
        "plt.title('Average price as per the type of room')"
      ],
      "metadata": {
        "id": "irlUoxc8YrdO"
      },
      "execution_count": null,
      "outputs": []
    },
    {
      "cell_type": "markdown",
      "source": [
        "##### 1. Why did you pick the specific chart?"
      ],
      "metadata": {
        "id": "iky9q4vBYrdO"
      }
    },
    {
      "cell_type": "markdown",
      "source": [
        "The reason for selecting this specific chart in the exploratory data analysis is to understand the costing verage for different types of rooms in the AirBnb bookings.\n"
      ],
      "metadata": {
        "id": "aJRCwT6DYrdO"
      }
    },
    {
      "cell_type": "markdown",
      "source": [
        "##### 2. What is/are the insight(s) found from the chart?"
      ],
      "metadata": {
        "id": "F6T5p64dYrdO"
      }
    },
    {
      "cell_type": "markdown",
      "source": [
        "The following insights are provided:\n",
        "\n",
        "1. Entire Home/Apartment - 211.807\n",
        "\n",
        "2. Private room - 89.7944\n",
        "\n",
        "3. Shared room - 70.0759\n",
        "\n",
        "These are the average price of the AirBnb bookings based on different types of rooms."
      ],
      "metadata": {
        "id": "Xx8WAJvtYrdO"
      }
    },
    {
      "cell_type": "markdown",
      "source": [
        "##### 3. Will the gained insights help creating a positive business impact?\n",
        "Are there any insights that lead to negative growth? Justify with specific reason."
      ],
      "metadata": {
        "id": "y-Ehk30pYrdP"
      }
    },
    {
      "cell_type": "markdown",
      "source": [
        "It provided the insight that the Home and Apartment booking has the highest price and the other types of room ar far less in price in comparision. Hence, the possibilities of consumption of the rooms should be more in private or shared room.\n",
        "\n",
        "But in the previous data, the bookings were more done with home and partment which indicates quality service.\n"
      ],
      "metadata": {
        "id": "jLNxxz7MYrdP"
      }
    },
    {
      "cell_type": "markdown",
      "source": [
        "#### Chart - 5"
      ],
      "metadata": {
        "id": "bamQiAODYuh1"
      }
    },
    {
      "cell_type": "code",
      "source": [
        "# Chart - 5 visualization code\n",
        "# Plot of average minimum nights based on type of room\n",
        "\n",
        "nights_by_room = airbnb_ny_2019_df.groupby('room_type').agg(mean_nights=('minimum_nights', 'mean'))\n",
        "\n",
        "ax = sns.barplot(data = nights_by_room, x = nights_by_room.index, y = 'mean_nights')\n",
        "ax.bar_label(ax.containers[0])\n",
        "plt.xlabel('Room Type')\n",
        "plt.ylabel('Average Nights')\n",
        "plt.title('Average nights as per the type of room')"
      ],
      "metadata": {
        "id": "TIJwrbroYuh3"
      },
      "execution_count": null,
      "outputs": []
    },
    {
      "cell_type": "markdown",
      "source": [
        "##### 1. Why did you pick the specific chart?"
      ],
      "metadata": {
        "id": "QHF8YVU7Yuh3"
      }
    },
    {
      "cell_type": "markdown",
      "source": [
        "The selection of the chart can be reasoned with the assessment of average occupancy of the rooms based on nights for which bookings are done."
      ],
      "metadata": {
        "id": "dcxuIMRPYuh3"
      }
    },
    {
      "cell_type": "markdown",
      "source": [
        "##### 2. What is/are the insight(s) found from the chart?"
      ],
      "metadata": {
        "id": "GwzvFGzlYuh3"
      }
    },
    {
      "cell_type": "markdown",
      "source": [
        "This provides insight on the minimum nights average as per room type and it provided the results as:\n",
        "\n",
        "1. Entire Home/ Apartment - 8.47\n",
        "\n",
        "2. Private Rooms - 5.38\n",
        "\n",
        "3. Shared Rooms - 6.47\n",
        "\n",
        "This depicts that the number of night stays are high in the apartments followed by the shared rooms and then the private rooms."
      ],
      "metadata": {
        "id": "uyqkiB8YYuh3"
      }
    },
    {
      "cell_type": "markdown",
      "source": [
        "##### 3. Will the gained insights help creating a positive business impact?\n",
        "Are there any insights that lead to negative growth? Justify with specific reason."
      ],
      "metadata": {
        "id": "qYpmQ266Yuh3"
      }
    },
    {
      "cell_type": "markdown",
      "source": [
        "In terms of business impact, the results depicted that the maximum occupancy of the rooms will be in the home and apartments. This indicates the number of house and apartment should be more to accomodate more bookings."
      ],
      "metadata": {
        "id": "_WtzZ_hCYuh4"
      }
    },
    {
      "cell_type": "markdown",
      "source": [
        "#### Chart - 6"
      ],
      "metadata": {
        "id": "OH-pJp9IphqM"
      }
    },
    {
      "cell_type": "code",
      "source": [
        "# Chart - 6 visualization code\n",
        "# Plot of average minimum nights based on Neighbourhood Group\n",
        "nights_by_neighbour = airbnb_ny_2019_df.groupby('neighbourhood_group').agg(mean_nights=('minimum_nights', 'mean'))\n",
        "\n",
        "ax = sns.barplot(data = nights_by_neighbour, x = nights_by_neighbour.index, y = 'mean_nights')\n",
        "ax.bar_label(ax.containers[0])\n",
        "plt.xlabel('Neighbourhood Groups')\n",
        "plt.ylabel('Average Nights')\n",
        "plt.title('Average night based on Neighbourhood Group')"
      ],
      "metadata": {
        "id": "kuRf4wtuphqN"
      },
      "execution_count": null,
      "outputs": []
    },
    {
      "cell_type": "markdown",
      "source": [
        "##### 1. Why did you pick the specific chart?"
      ],
      "metadata": {
        "id": "bbFf2-_FphqN"
      }
    },
    {
      "cell_type": "markdown",
      "source": [
        "This specific chart has been selected to understand average nights stays with respect to different locations. It can help us understand the maximum number of nights spend by the customers in the AirBnb."
      ],
      "metadata": {
        "id": "loh7H2nzphqN"
      }
    },
    {
      "cell_type": "markdown",
      "source": [
        "##### 2. What is/are the insight(s) found from the chart?"
      ],
      "metadata": {
        "id": "_ouA3fa0phqN"
      }
    },
    {
      "cell_type": "markdown",
      "source": [
        "The grapg provides insights on the nights spend in specific locations:\n",
        "\n",
        "1. Brooklyn - 6.05\n",
        "\n",
        "2. Manhattan - 8.53\n",
        "\n",
        "3. Queens - 5.18\n",
        "\n",
        "4. Staten Island - 4.83\n",
        "\n",
        "5. Bronx - 4.56"
      ],
      "metadata": {
        "id": "VECbqPI7phqN"
      }
    },
    {
      "cell_type": "markdown",
      "source": [
        "##### 3. Will the gained insights help creating a positive business impact?\n",
        "Are there any insights that lead to negative growth? Justify with specific reason."
      ],
      "metadata": {
        "id": "Seke61FWphqN"
      }
    },
    {
      "cell_type": "markdown",
      "source": [
        "The determined idea from the graph describes positive business impact and it provides Brooklyn and Manhattan to be locations where most amount of nights have been spent."
      ],
      "metadata": {
        "id": "DW4_bGpfphqN"
      }
    },
    {
      "cell_type": "markdown",
      "source": [
        "#### Chart - 7"
      ],
      "metadata": {
        "id": "PIIx-8_IphqN"
      }
    },
    {
      "cell_type": "code",
      "source": [
        "# Chart - 7 visualization code\n",
        "# Plot of number of reviews based on type of room\n",
        "review_of_room = airbnb_ny_2019_df.groupby('room_type').agg(mean_review=('number_of_reviews', 'mean'))\n",
        "\n",
        "ax = sns.barplot(data = review_of_room, x = review_of_room.index, y = 'mean_review')\n",
        "ax.bar_label(ax.containers[0])\n",
        "plt.xlabel('Room Type')\n",
        "plt.ylabel('Average number of reviews')\n",
        "plt.title('Average number of reviews for type of room')"
      ],
      "metadata": {
        "id": "lqAIGUfyphqO"
      },
      "execution_count": null,
      "outputs": []
    },
    {
      "cell_type": "markdown",
      "source": [
        "##### 1. Why did you pick the specific chart?"
      ],
      "metadata": {
        "id": "t27r6nlMphqO"
      }
    },
    {
      "cell_type": "markdown",
      "source": [
        "The specific chart delivers the idea of average number of reviews for the particular room type."
      ],
      "metadata": {
        "id": "iv6ro40sphqO"
      }
    },
    {
      "cell_type": "markdown",
      "source": [
        "##### 2. What is/are the insight(s) found from the chart?"
      ],
      "metadata": {
        "id": "r2jJGEOYphqO"
      }
    },
    {
      "cell_type": "markdown",
      "source": [
        "The insights gained from the graph can be added in terms of average reviews for room type:\n",
        "\n",
        "1. Entire Home/Apartment - 22.835270\n",
        "\n",
        "2. Private Room - 24.117502\n",
        "\n",
        "3. Shared Room - 16.614523"
      ],
      "metadata": {
        "id": "Po6ZPi4hphqO"
      }
    },
    {
      "cell_type": "markdown",
      "source": [
        "##### 3. Will the gained insights help creating a positive business impact?\n",
        "Are there any insights that lead to negative growth? Justify with specific reason."
      ],
      "metadata": {
        "id": "b0JNsNcRphqO"
      }
    },
    {
      "cell_type": "markdown",
      "source": [
        "The data shows the average number of reviews for particular type of room."
      ],
      "metadata": {
        "id": "xvSq8iUTphqO"
      }
    },
    {
      "cell_type": "markdown",
      "source": [
        "#### Chart - 8"
      ],
      "metadata": {
        "id": "BZR9WyysphqO"
      }
    },
    {
      "cell_type": "code",
      "source": [
        "# Chart - 8 visualization code\n",
        "# Plot of number of reviews based on neighbourhood groups\n",
        "\n",
        "reviews_per_neighbourhood = airbnb_ny_2019_df.groupby('neighbourhood_group').agg(mean_reviews = ('reviews_per_month', 'mean'))\n",
        "\n",
        "ax = sns.barplot(data = reviews_per_neighbourhood, x = reviews_per_neighbourhood.index, y = 'mean_reviews')\n",
        "ax.bar_label(ax.containers[0])\n",
        "plt.xlabel('Neighbourhood Groups')\n",
        "plt.ylabel('Average Review per month')\n",
        "plt.title('Average review per month for Neighbourhood Groups')"
      ],
      "metadata": {
        "id": "TdPTWpAVphqO"
      },
      "execution_count": null,
      "outputs": []
    },
    {
      "cell_type": "markdown",
      "source": [
        "##### 1. Why did you pick the specific chart?"
      ],
      "metadata": {
        "id": "jj7wYXLtphqO"
      }
    },
    {
      "cell_type": "markdown",
      "source": [
        "The selection of the chart can be reasoned with the number of average reviews per month woth respect to the locations."
      ],
      "metadata": {
        "id": "Ob8u6rCTphqO"
      }
    },
    {
      "cell_type": "markdown",
      "source": [
        "##### 2. What is/are the insight(s) found from the chart?"
      ],
      "metadata": {
        "id": "eZrbJ2SmphqO"
      }
    },
    {
      "cell_type": "markdown",
      "source": [
        "The following are the insights of the chart:\n",
        "\n",
        "1. Bronx - 1.747108\n",
        "\n",
        "2. Brooklyn - 1.299685\n",
        "\n",
        "3. Manhattan - 1.295301\n",
        "\n",
        "4. Queens - 1.832280\n",
        "\n",
        "5. Staten Island - 1.793594"
      ],
      "metadata": {
        "id": "mZtgC_hjphqO"
      }
    },
    {
      "cell_type": "markdown",
      "source": [
        "##### 3. Will the gained insights help creating a positive business impact?\n",
        "Are there any insights that lead to negative growth? Justify with specific reason."
      ],
      "metadata": {
        "id": "rFu4xreNphqO"
      }
    },
    {
      "cell_type": "markdown",
      "source": [
        "The insights have been gained from the data in terms of identifying the suitable locations where the most reviews are gathered. This helps in identifying the prime locations for business which the customers like more than others."
      ],
      "metadata": {
        "id": "ey_0qi68phqO"
      }
    },
    {
      "cell_type": "markdown",
      "source": [
        "#### Chart - 9"
      ],
      "metadata": {
        "id": "YJ55k-q6phqO"
      }
    },
    {
      "cell_type": "code",
      "source": [
        "# Chart - 9 visualization code\n",
        "# Plot of price distribution by neighbourhood group\n",
        "\n",
        "plt.figure(figsize=(12,8))\n",
        "sns.boxplot(x='neighbourhood_group', y='price', data=airbnb_ny_2019_df)\n",
        "plt.xlabel('Neighbourhood Groups')\n",
        "plt.ylabel('Price')\n",
        "plt.title('Price Distribution with respect to Neighbourhood Group')\n",
        "plt.show()"
      ],
      "metadata": {
        "id": "B2aS4O1ophqO"
      },
      "execution_count": null,
      "outputs": []
    },
    {
      "cell_type": "markdown",
      "source": [
        "##### 1. Why did you pick the specific chart?"
      ],
      "metadata": {
        "id": "gCFgpxoyphqP"
      }
    },
    {
      "cell_type": "markdown",
      "source": [
        "This particular chart was selected to highlight the density of price according to neighbourhood groups."
      ],
      "metadata": {
        "id": "TVxDimi2phqP"
      }
    },
    {
      "cell_type": "markdown",
      "source": [
        "##### 2. What is/are the insight(s) found from the chart?"
      ],
      "metadata": {
        "id": "OVtJsKN_phqQ"
      }
    },
    {
      "cell_type": "markdown",
      "source": [
        "The graph shows that majority of the listings were below 2000 for all the neighbourhood groups."
      ],
      "metadata": {
        "id": "ngGi97qjphqQ"
      }
    },
    {
      "cell_type": "markdown",
      "source": [
        "##### 3. Will the gained insights help creating a positive business impact?\n",
        "Are there any insights that lead to negative growth? Justify with specific reason."
      ],
      "metadata": {
        "id": "lssrdh5qphqQ"
      }
    },
    {
      "cell_type": "markdown",
      "source": [
        "The insights have been gained from the data in terms of identifying the price range where the most bookings are done. This helps in identifying the most coomon range in terms of price for business which the customers like more than others."
      ],
      "metadata": {
        "id": "tBpY5ekJphqQ"
      }
    },
    {
      "cell_type": "markdown",
      "source": [
        "#### Chart - 10"
      ],
      "metadata": {
        "id": "U2RJ9gkRphqQ"
      }
    },
    {
      "cell_type": "code",
      "source": [
        "# Chart - 10 visualization code\n",
        "# Plot for availability as per the neighbourhood group\n",
        "\n",
        "plt.figure(figsize=(12,6))\n",
        "sns.boxplot(x='neighbourhood_group', y = 'availability_365', data=airbnb_ny_2019_df)\n",
        "plt.ylabel('Availability')\n",
        "plt.xlabel('Neighbourhood Group')\n",
        "plt.title('Availability Distribution by Neighbourhood Group')\n",
        "plt.show()"
      ],
      "metadata": {
        "id": "GM7a4YP4phqQ"
      },
      "execution_count": null,
      "outputs": []
    },
    {
      "cell_type": "markdown",
      "source": [
        "##### 1. Why did you pick the specific chart?"
      ],
      "metadata": {
        "id": "1M8mcRywphqQ"
      }
    },
    {
      "cell_type": "markdown",
      "source": [
        "This particular chart was selected to highlight different number of availability of listings in particular neighbourhood."
      ],
      "metadata": {
        "id": "8agQvks0phqQ"
      }
    },
    {
      "cell_type": "markdown",
      "source": [
        "##### 2. What is/are the insight(s) found from the chart?"
      ],
      "metadata": {
        "id": "tgIPom80phqQ"
      }
    },
    {
      "cell_type": "markdown",
      "source": [
        "The chart shows Staten Island and Bronx has the most availability while Brooklyn had the least year round availability."
      ],
      "metadata": {
        "id": "Qp13pnNzphqQ"
      }
    },
    {
      "cell_type": "markdown",
      "source": [
        "##### 3. Will the gained insights help creating a positive business impact?\n",
        "Are there any insights that lead to negative growth? Justify with specific reason."
      ],
      "metadata": {
        "id": "JMzcOPDDphqR"
      }
    },
    {
      "cell_type": "markdown",
      "source": [
        "The insights gained from this graph tells businesses in Brooklyn and Manhattan\n",
        "needs more number of listings as they have less availability."
      ],
      "metadata": {
        "id": "R4Ka1PC2phqR"
      }
    },
    {
      "cell_type": "markdown",
      "source": [
        "#### Chart - 11"
      ],
      "metadata": {
        "id": "x-EpHcCOp1ci"
      }
    },
    {
      "cell_type": "code",
      "source": [
        "# Chart - 11 visualization code\n",
        "# Plot for number of listings for different type of rooms in each neighbourhood group\n",
        "\n",
        "listing_group_df = pd.DataFrame(airbnb_ny_2019_df.groupby(['neighbourhood_group', 'room_type'])['room_type'].count().unstack())\n",
        "\n",
        "listing_group_df.plot(kind='bar')\n",
        "plt.rcParams['figure.figsize'] = (7,7)\n",
        "plt.xlabel('Neighbourhood Group')\n",
        "plt.ylabel('Number of listings')"
      ],
      "metadata": {
        "id": "mAQTIvtqp1cj"
      },
      "execution_count": null,
      "outputs": []
    },
    {
      "cell_type": "markdown",
      "source": [
        "##### 1. Why did you pick the specific chart?"
      ],
      "metadata": {
        "id": "X_VqEhTip1ck"
      }
    },
    {
      "cell_type": "markdown",
      "source": [
        "This chart represents number of listings of type of rooms in different neighbourhood groups."
      ],
      "metadata": {
        "id": "-vsMzt_np1ck"
      }
    },
    {
      "cell_type": "markdown",
      "source": [
        "##### 2. What is/are the insight(s) found from the chart?"
      ],
      "metadata": {
        "id": "8zGJKyg5p1ck"
      }
    },
    {
      "cell_type": "markdown",
      "source": [
        "The insights from the chart are:\n",
        "\n",
        "1. Most number of listings are in Manhattan and the least number of listings are in Staten island.\n",
        "\n",
        "2. Entire home/apt is the most listed property type and Shared room is the least listed property type.\n",
        "\n",
        "3. Because less number of people prefer to stay in shared room type ,so it has the least number of listings."
      ],
      "metadata": {
        "id": "ZYdMsrqVp1ck"
      }
    },
    {
      "cell_type": "markdown",
      "source": [
        "##### 3. Will the gained insights help creating a positive business impact?\n",
        "Are there any insights that lead to negative growth? Justify with specific reason."
      ],
      "metadata": {
        "id": "PVzmfK_Ep1ck"
      }
    },
    {
      "cell_type": "markdown",
      "source": [
        "As per the conclusions drawn, most listed property is home/apt so business needs to focus their resources on home, and shared type is the least listed property so the resources spent should be controlled for profit."
      ],
      "metadata": {
        "id": "druuKYZpp1ck"
      }
    },
    {
      "cell_type": "markdown",
      "source": [
        "#### Chart - 12"
      ],
      "metadata": {
        "id": "n3dbpmDWp1ck"
      }
    },
    {
      "cell_type": "code",
      "source": [
        "# Chart - 12 visualization code\n",
        "# Plot for comparing the prize of different type of rooms in different neighbourhood groups\n",
        "\n",
        "neighbourhood_group_price_df = pd.DataFrame(airbnb_ny_2019_df.groupby(['neighbourhood_group','room_type'])['price'].mean().unstack())\n",
        "\n",
        "neighbourhood_group_price_df.plot(kind='bar')\n",
        "plt.xlabel('Neighbourhood Group')\n",
        "plt.ylabel('Average Price')\n",
        "plt.title('Average price for different rooms in neighbourhood groups')\n",
        "plt.rcParams['figure.figsize'] = (5, 5)"
      ],
      "metadata": {
        "id": "bwevp1tKp1ck"
      },
      "execution_count": null,
      "outputs": []
    },
    {
      "cell_type": "markdown",
      "source": [
        "##### 1. Why did you pick the specific chart?"
      ],
      "metadata": {
        "id": "ylSl6qgtp1ck"
      }
    },
    {
      "cell_type": "markdown",
      "source": [
        "This chart represents average price of different type of rooms in different neighbourhood groups."
      ],
      "metadata": {
        "id": "m2xqNkiQp1ck"
      }
    },
    {
      "cell_type": "markdown",
      "source": [
        "##### 2. What is/are the insight(s) found from the chart?"
      ],
      "metadata": {
        "id": "ZWILFDl5p1ck"
      }
    },
    {
      "cell_type": "markdown",
      "source": [
        "The insights from the chart are:\n",
        "\n",
        "1. The most expensive listings are in Manhattan and the least expensive listings are in Brooklyn.\n",
        "\n",
        "2. Entire home/apt is the most expensive property type and Shared room is the least expensive property type."
      ],
      "metadata": {
        "id": "x-lUsV2mp1ck"
      }
    },
    {
      "cell_type": "markdown",
      "source": [
        "##### 3. Will the gained insights help creating a positive business impact?\n",
        "Are there any insights that lead to negative growth? Justify with specific reason."
      ],
      "metadata": {
        "id": "M7G43BXep1ck"
      }
    },
    {
      "cell_type": "markdown",
      "source": [
        "The insights have been gained from the data in terms of identifying the price range where the most bookings are done. This helps in identifying the most coomon range in terms of price for business which the customers like more than others."
      ],
      "metadata": {
        "id": "5wwDJXsLp1cl"
      }
    },
    {
      "cell_type": "markdown",
      "source": [
        "#### Chart - 13"
      ],
      "metadata": {
        "id": "Ag9LCva-p1cl"
      }
    },
    {
      "cell_type": "code",
      "source": [
        "# Chart - 13 visualization code\n",
        "# Plot for busiest hosts\n",
        "\n",
        "busiest_host_df = airbnb_ny_2019_df.groupby(['host_name', 'neighbourhood_group', 'room_type'])['minimum_nights'].count().reset_index()\n",
        "busiest_host_df = busiest_host_df.sort_values(by = 'minimum_nights', ascending = False).head()\n",
        "\n",
        "plt.bar(busiest_host_df['host_name'], busiest_host_df['minimum_nights'], width=0.5)\n",
        "plt.xlabel('Host')\n",
        "plt.ylabel('Minimum nights stayed')\n",
        "plt.title('Busiest Hosts')\n",
        "plt.rcParams['figure.figsize'] = (10,5)\n",
        "plt.show()"
      ],
      "metadata": {
        "id": "EUfxeq9-p1cl"
      },
      "execution_count": null,
      "outputs": []
    },
    {
      "cell_type": "markdown",
      "source": [
        "##### 1. Why did you pick the specific chart?"
      ],
      "metadata": {
        "id": "E6MkPsBcp1cl"
      }
    },
    {
      "cell_type": "markdown",
      "source": [
        "This specific chart is used to find the busiest hosts on basis of minimum nights stayed."
      ],
      "metadata": {
        "id": "V22bRsFWp1cl"
      }
    },
    {
      "cell_type": "markdown",
      "source": [
        "##### 2. What is/are the insight(s) found from the chart?"
      ],
      "metadata": {
        "id": "2cELzS2fp1cl"
      }
    },
    {
      "cell_type": "markdown",
      "source": [
        "The graph shows us that Sonder (NYC), Blueground, Michael Host, Kara, David are the busiest hosts in that paricular order."
      ],
      "metadata": {
        "id": "ozQPc2_Ip1cl"
      }
    },
    {
      "cell_type": "markdown",
      "source": [
        "##### 3. Will the gained insights help creating a positive business impact?\n",
        "Are there any insights that lead to negative growth? Justify with specific reason."
      ],
      "metadata": {
        "id": "3MPXvC8up1cl"
      }
    },
    {
      "cell_type": "markdown",
      "source": [
        "The business owners other than the ones the graph shows can look into this information and find reasons to further develop their business."
      ],
      "metadata": {
        "id": "GL8l1tdLp1cl"
      }
    },
    {
      "cell_type": "markdown",
      "source": [
        "#### Chart - 14 - Correlation Heatmap"
      ],
      "metadata": {
        "id": "NC_X3p0fY2L0"
      }
    },
    {
      "cell_type": "code",
      "source": [
        "# Correlation Heatmap visualization code\n",
        "\n",
        "data_part_airbnb_ny_2019_df = airbnb_ny_2019_df.drop(['id', 'name','host_name', 'host_id', 'neighbourhood', 'latitude', 'longitude'], axis=1)\n",
        "\n",
        "sns.heatmap(data_part_airbnb_ny_2019_df.iloc[:,2:].corr(), cmap='YlGnBu', annot=True)"
      ],
      "metadata": {
        "id": "xyC9zolEZNRQ"
      },
      "execution_count": null,
      "outputs": []
    },
    {
      "cell_type": "markdown",
      "source": [
        "##### 1. Why did you pick the specific chart?"
      ],
      "metadata": {
        "id": "UV0SzAkaZNRQ"
      }
    },
    {
      "cell_type": "markdown",
      "source": [
        "The plot has been picked to understand the relation between the different variables. First of all, the numerical variables have been separated by dropping all the other columns. This new dataset is used to plot the heatmap of the vairables with annotations."
      ],
      "metadata": {
        "id": "DVPuT8LYZNRQ"
      }
    },
    {
      "cell_type": "markdown",
      "source": [
        "##### 2. What is/are the insight(s) found from the chart?"
      ],
      "metadata": {
        "id": "YPEH6qLeZNRQ"
      }
    },
    {
      "cell_type": "markdown",
      "source": [
        "This provided an idea on how the different variables are correlated to each other by equivalent and inverse equivalent relation."
      ],
      "metadata": {
        "id": "bfSqtnDqZNRR"
      }
    },
    {
      "cell_type": "markdown",
      "source": [
        "#### Chart - 15 - Pair Plot"
      ],
      "metadata": {
        "id": "q29F0dvdveiT"
      }
    },
    {
      "cell_type": "code",
      "source": [
        "# Pair Plot visualization code\n",
        "sns.pairplot(data_part_airbnb_ny_2019_df, hue='room_type')"
      ],
      "metadata": {
        "id": "o58-TEIhveiU"
      },
      "execution_count": null,
      "outputs": []
    },
    {
      "cell_type": "code",
      "source": [
        "sns.pairplot(data_part_airbnb_ny_2019_df, hue='neighbourhood_group')"
      ],
      "metadata": {
        "id": "7wHl6h4D6X2T"
      },
      "execution_count": null,
      "outputs": []
    },
    {
      "cell_type": "markdown",
      "source": [
        "##### 1. Why did you pick the specific chart?"
      ],
      "metadata": {
        "id": "EXh0U9oCveiU"
      }
    },
    {
      "cell_type": "markdown",
      "source": [
        "The specific chart has been picked to deliver the idea of correlation between the variables according to room type and neighbourhood group."
      ],
      "metadata": {
        "id": "eMmPjTByveiU"
      }
    },
    {
      "cell_type": "markdown",
      "source": [
        "##### 2. What is/are the insight(s) found from the chart?"
      ],
      "metadata": {
        "id": "22aHeOlLveiV"
      }
    },
    {
      "cell_type": "markdown",
      "source": [
        "It provided the insight to deliver the increasing and decreasing correlation between the numerical variables of the dataset."
      ],
      "metadata": {
        "id": "uPQ8RGwHveiV"
      }
    },
    {
      "cell_type": "markdown",
      "source": [
        "## **5. Solution to Business Objective**"
      ],
      "metadata": {
        "id": "JcMwzZxoAimU"
      }
    },
    {
      "cell_type": "markdown",
      "source": [
        "#### What do you suggest the client to achieve Business Objective ?\n",
        "Explain Briefly."
      ],
      "metadata": {
        "id": "8G2x9gOozGDZ"
      }
    },
    {
      "cell_type": "markdown",
      "source": [
        "In order to achieve the business objectives, the client should take some respective measures in terms of resource allocation.\n",
        "\n",
        "\n",
        "*   The data analysed shows that the Home/Apt type room and private room is the goto choice for customers\n",
        "\n",
        "*   The data analysed also show that the Brooklyn and Manhatan has the highest price and the availability of the bookings were low in these locations.\n",
        "*   The business should be widely expanded in these two locations for a better prospect of the organisation.\n",
        "\n",
        "*   Proper price allocation to the rooms in different locations are also important to improve the customer engagement in the not so famous locations like the Staten Island and Bronx\n",
        "\n"
      ],
      "metadata": {
        "id": "pASKb0qOza21"
      }
    },
    {
      "cell_type": "markdown",
      "source": [
        "# **Conclusion**"
      ],
      "metadata": {
        "id": "gCX9965dhzqZ"
      }
    },
    {
      "cell_type": "markdown",
      "source": [
        "Conclusively, the improvment of consumer engagement and development of quality of services can be possible by AirBnb with proper resource allocation. The data gathered has been effective in understanding the price and other aspects of AirBnb bookings. This has helped understand the requirments of the customers for having a better experience. In order to improve the services and better experience, proper financial and other resource allocation should be there. This is necessary to adjust the prices of the bookings in some locations and more number of hotels must be there for accommodating the customers in the prime locations like Brooklyn and Manhatan."
      ],
      "metadata": {
        "id": "Fjb1IsQkh3yE"
      }
    },
    {
      "cell_type": "markdown",
      "source": [
        "### ***Hurrah! You have successfully completed your EDA Capstone Project !!!***"
      ],
      "metadata": {
        "id": "gIfDvo9L0UH2"
      }
    }
  ]
}